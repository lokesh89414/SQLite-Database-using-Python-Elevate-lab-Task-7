{
  "nbformat": 4,
  "nbformat_minor": 0,
  "metadata": {
    "colab": {
      "provenance": [],
      "authorship_tag": "ABX9TyNDMaDYk+S36vlzVIfSyJjM",
      "include_colab_link": true
    },
    "kernelspec": {
      "name": "python3",
      "display_name": "Python 3"
    },
    "language_info": {
      "name": "python"
    }
  },
  "cells": [
    {
      "cell_type": "markdown",
      "metadata": {
        "id": "view-in-github",
        "colab_type": "text"
      },
      "source": [
        "<a href=\"https://colab.research.google.com/github/lokesh89414/SQLite-Database-using-Python-Elevate-lab-Task-7/blob/main/SQLite_Database_using_Python_Elevate_lab_Task_7.ipynb\" target=\"_parent\"><img src=\"https://colab.research.google.com/assets/colab-badge.svg\" alt=\"Open In Colab\"/></a>"
      ]
    },
    {
      "cell_type": "markdown",
      "source": [
        "  **🗂️ Task Overview**\n",
        "  \n",
        "  We’ll:\n",
        "  1.   Create a SQLite database (sales_data.db) with a detailed sales table\n",
        "  2.   Populate it with more realistic sales data.\n",
        "  3.   Run SQL queries to get total quantity and revenue per product.\n",
        "  4.   Load results into a pandas DataFrame.\n",
        "  5.   Create a bar chart to visualize product revenue."
      ],
      "metadata": {
        "id": "up57h0ubzcTZ"
      }
    },
    {
      "cell_type": "markdown",
      "source": [
        "**📘 1. Import Required Libraries**"
      ],
      "metadata": {
        "id": "wbnhuHLp0Xcy"
      }
    },
    {
      "cell_type": "code",
      "source": [
        "import sqlite3\n",
        "import pandas as pd\n",
        "import matplotlib.pyplot as plt\n"
      ],
      "metadata": {
        "id": "xMm2a-XLx-7c"
      },
      "execution_count": 4,
      "outputs": []
    },
    {
      "cell_type": "markdown",
      "source": [
        "**🛠️ 2. Create a More Detailed Sales Table and Insert Data**\n",
        "\n",
        "We’ll add more records and diverse products to simulate a realistic dataset."
      ],
      "metadata": {
        "id": "JWQqB2Mq0fO_"
      }
    },
    {
      "cell_type": "code",
      "source": [
        "# Connect to SQLite (creates database if it doesn't exist)\n",
        "conn = sqlite3.connect(\"sales_data.db\")\n",
        "cursor = conn.cursor()\n",
        "\n",
        "# Drop table if it exists (for re-runs)\n",
        "cursor.execute(\"DROP TABLE IF EXISTS sales\")\n",
        "\n",
        "# Create sales table\n",
        "cursor.execute(\"\"\"\n",
        "CREATE TABLE sales (\n",
        "    id INTEGER PRIMARY KEY AUTOINCREMENT,\n",
        "    product TEXT,\n",
        "    quantity INTEGER,\n",
        "    price REAL,\n",
        "    date TEXT,\n",
        "    region TEXT\n",
        ")\n",
        "\"\"\")\n",
        "\n",
        "# Insert more detailed sample data\n",
        "sales_data = [\n",
        "    (\"Apple\", 10, 1.5, \"2025-06-01\", \"North\"),\n",
        "    (\"Banana\", 20, 0.5, \"2025-06-01\", \"North\"),\n",
        "    (\"Orange\", 15, 0.8, \"2025-06-02\", \"South\"),\n",
        "    (\"Apple\", 5, 1.5, \"2025-06-02\", \"South\"),\n",
        "    (\"Banana\", 10, 0.5, \"2025-06-03\", \"East\"),\n",
        "    (\"Grapes\", 25, 2.0, \"2025-06-03\", \"East\"),\n",
        "    (\"Apple\", 7, 1.5, \"2025-06-04\", \"West\"),\n",
        "    (\"Orange\", 10, 0.8, \"2025-06-05\", \"North\"),\n",
        "    (\"Banana\", 12, 0.5, \"2025-06-06\", \"South\"),\n",
        "    (\"Grapes\", 30, 2.0, \"2025-06-06\", \"West\")\n",
        "]\n",
        "\n",
        "cursor.executemany(\"INSERT INTO sales (product, quantity, price, date, region) VALUES (?, ?, ?, ?, ?)\", sales_data)\n",
        "\n",
        "conn.commit()\n",
        "conn.close()\n",
        "\n",
        "print(\"Sales table created and data inserted!\")\n"
      ],
      "metadata": {
        "colab": {
          "base_uri": "https://localhost:8080/"
        },
        "id": "hvvPaPaAyue2",
        "outputId": "15912e07-7114-498b-b137-22738d7eb3dc"
      },
      "execution_count": 5,
      "outputs": [
        {
          "output_type": "stream",
          "name": "stdout",
          "text": [
            "Sales table created and data inserted!\n"
          ]
        }
      ]
    },
    {
      "cell_type": "markdown",
      "source": [
        "**🔍 3. Run SQL Query to Get Sales Summary**\n",
        "\n",
        "We’ll calculate:\n",
        "\n",
        "* Total Quantity Sold\n",
        "\n",
        "* Total Revenue (quantity * price)\n",
        "\n",
        "* Grouped by product"
      ],
      "metadata": {
        "id": "Jbcwsr_40qne"
      }
    },
    {
      "cell_type": "code",
      "source": [
        "# Reconnect\n",
        "conn = sqlite3.connect(\"sales_data.db\")\n",
        "\n",
        "# SQL Query\n",
        "query = \"\"\"\n",
        "SELECT\n",
        "    product,\n",
        "    SUM(quantity) AS total_quantity,\n",
        "    ROUND(SUM(quantity * price), 2) AS total_revenue\n",
        "FROM sales\n",
        "GROUP BY product\n",
        "ORDER BY total_revenue DESC\n",
        "\"\"\"\n",
        "\n",
        "# Read query result into pandas DataFrame\n",
        "df_summary = pd.read_sql_query(query, conn)\n",
        "\n",
        "# Close connection\n",
        "conn.close()\n",
        "\n",
        "# Display summary\n",
        "print(\"🧾 Sales Summary (by Product):\")\n",
        "display(df_summary)\n"
      ],
      "metadata": {
        "colab": {
          "base_uri": "https://localhost:8080/",
          "height": 192
        },
        "id": "9nNCnl4uyvyv",
        "outputId": "1fc4b8bc-9a1b-47bb-f817-39ca1b5517bf"
      },
      "execution_count": 6,
      "outputs": [
        {
          "output_type": "stream",
          "name": "stdout",
          "text": [
            "🧾 Sales Summary (by Product):\n"
          ]
        },
        {
          "output_type": "display_data",
          "data": {
            "text/plain": [
              "  product  total_quantity  total_revenue\n",
              "0  Grapes              55          110.0\n",
              "1   Apple              22           33.0\n",
              "2  Banana              42           21.0\n",
              "3  Orange              25           20.0"
            ],
            "text/html": [
              "\n",
              "  <div id=\"df-c335b345-1381-4ab9-a025-4ba6ea4197f6\" class=\"colab-df-container\">\n",
              "    <div>\n",
              "<style scoped>\n",
              "    .dataframe tbody tr th:only-of-type {\n",
              "        vertical-align: middle;\n",
              "    }\n",
              "\n",
              "    .dataframe tbody tr th {\n",
              "        vertical-align: top;\n",
              "    }\n",
              "\n",
              "    .dataframe thead th {\n",
              "        text-align: right;\n",
              "    }\n",
              "</style>\n",
              "<table border=\"1\" class=\"dataframe\">\n",
              "  <thead>\n",
              "    <tr style=\"text-align: right;\">\n",
              "      <th></th>\n",
              "      <th>product</th>\n",
              "      <th>total_quantity</th>\n",
              "      <th>total_revenue</th>\n",
              "    </tr>\n",
              "  </thead>\n",
              "  <tbody>\n",
              "    <tr>\n",
              "      <th>0</th>\n",
              "      <td>Grapes</td>\n",
              "      <td>55</td>\n",
              "      <td>110.0</td>\n",
              "    </tr>\n",
              "    <tr>\n",
              "      <th>1</th>\n",
              "      <td>Apple</td>\n",
              "      <td>22</td>\n",
              "      <td>33.0</td>\n",
              "    </tr>\n",
              "    <tr>\n",
              "      <th>2</th>\n",
              "      <td>Banana</td>\n",
              "      <td>42</td>\n",
              "      <td>21.0</td>\n",
              "    </tr>\n",
              "    <tr>\n",
              "      <th>3</th>\n",
              "      <td>Orange</td>\n",
              "      <td>25</td>\n",
              "      <td>20.0</td>\n",
              "    </tr>\n",
              "  </tbody>\n",
              "</table>\n",
              "</div>\n",
              "    <div class=\"colab-df-buttons\">\n",
              "\n",
              "  <div class=\"colab-df-container\">\n",
              "    <button class=\"colab-df-convert\" onclick=\"convertToInteractive('df-c335b345-1381-4ab9-a025-4ba6ea4197f6')\"\n",
              "            title=\"Convert this dataframe to an interactive table.\"\n",
              "            style=\"display:none;\">\n",
              "\n",
              "  <svg xmlns=\"http://www.w3.org/2000/svg\" height=\"24px\" viewBox=\"0 -960 960 960\">\n",
              "    <path d=\"M120-120v-720h720v720H120Zm60-500h600v-160H180v160Zm220 220h160v-160H400v160Zm0 220h160v-160H400v160ZM180-400h160v-160H180v160Zm440 0h160v-160H620v160ZM180-180h160v-160H180v160Zm440 0h160v-160H620v160Z\"/>\n",
              "  </svg>\n",
              "    </button>\n",
              "\n",
              "  <style>\n",
              "    .colab-df-container {\n",
              "      display:flex;\n",
              "      gap: 12px;\n",
              "    }\n",
              "\n",
              "    .colab-df-convert {\n",
              "      background-color: #E8F0FE;\n",
              "      border: none;\n",
              "      border-radius: 50%;\n",
              "      cursor: pointer;\n",
              "      display: none;\n",
              "      fill: #1967D2;\n",
              "      height: 32px;\n",
              "      padding: 0 0 0 0;\n",
              "      width: 32px;\n",
              "    }\n",
              "\n",
              "    .colab-df-convert:hover {\n",
              "      background-color: #E2EBFA;\n",
              "      box-shadow: 0px 1px 2px rgba(60, 64, 67, 0.3), 0px 1px 3px 1px rgba(60, 64, 67, 0.15);\n",
              "      fill: #174EA6;\n",
              "    }\n",
              "\n",
              "    .colab-df-buttons div {\n",
              "      margin-bottom: 4px;\n",
              "    }\n",
              "\n",
              "    [theme=dark] .colab-df-convert {\n",
              "      background-color: #3B4455;\n",
              "      fill: #D2E3FC;\n",
              "    }\n",
              "\n",
              "    [theme=dark] .colab-df-convert:hover {\n",
              "      background-color: #434B5C;\n",
              "      box-shadow: 0px 1px 3px 1px rgba(0, 0, 0, 0.15);\n",
              "      filter: drop-shadow(0px 1px 2px rgba(0, 0, 0, 0.3));\n",
              "      fill: #FFFFFF;\n",
              "    }\n",
              "  </style>\n",
              "\n",
              "    <script>\n",
              "      const buttonEl =\n",
              "        document.querySelector('#df-c335b345-1381-4ab9-a025-4ba6ea4197f6 button.colab-df-convert');\n",
              "      buttonEl.style.display =\n",
              "        google.colab.kernel.accessAllowed ? 'block' : 'none';\n",
              "\n",
              "      async function convertToInteractive(key) {\n",
              "        const element = document.querySelector('#df-c335b345-1381-4ab9-a025-4ba6ea4197f6');\n",
              "        const dataTable =\n",
              "          await google.colab.kernel.invokeFunction('convertToInteractive',\n",
              "                                                    [key], {});\n",
              "        if (!dataTable) return;\n",
              "\n",
              "        const docLinkHtml = 'Like what you see? Visit the ' +\n",
              "          '<a target=\"_blank\" href=https://colab.research.google.com/notebooks/data_table.ipynb>data table notebook</a>'\n",
              "          + ' to learn more about interactive tables.';\n",
              "        element.innerHTML = '';\n",
              "        dataTable['output_type'] = 'display_data';\n",
              "        await google.colab.output.renderOutput(dataTable, element);\n",
              "        const docLink = document.createElement('div');\n",
              "        docLink.innerHTML = docLinkHtml;\n",
              "        element.appendChild(docLink);\n",
              "      }\n",
              "    </script>\n",
              "  </div>\n",
              "\n",
              "\n",
              "    <div id=\"df-7c40b7d6-1762-4a72-8bf1-a9d629496371\">\n",
              "      <button class=\"colab-df-quickchart\" onclick=\"quickchart('df-7c40b7d6-1762-4a72-8bf1-a9d629496371')\"\n",
              "                title=\"Suggest charts\"\n",
              "                style=\"display:none;\">\n",
              "\n",
              "<svg xmlns=\"http://www.w3.org/2000/svg\" height=\"24px\"viewBox=\"0 0 24 24\"\n",
              "     width=\"24px\">\n",
              "    <g>\n",
              "        <path d=\"M19 3H5c-1.1 0-2 .9-2 2v14c0 1.1.9 2 2 2h14c1.1 0 2-.9 2-2V5c0-1.1-.9-2-2-2zM9 17H7v-7h2v7zm4 0h-2V7h2v10zm4 0h-2v-4h2v4z\"/>\n",
              "    </g>\n",
              "</svg>\n",
              "      </button>\n",
              "\n",
              "<style>\n",
              "  .colab-df-quickchart {\n",
              "      --bg-color: #E8F0FE;\n",
              "      --fill-color: #1967D2;\n",
              "      --hover-bg-color: #E2EBFA;\n",
              "      --hover-fill-color: #174EA6;\n",
              "      --disabled-fill-color: #AAA;\n",
              "      --disabled-bg-color: #DDD;\n",
              "  }\n",
              "\n",
              "  [theme=dark] .colab-df-quickchart {\n",
              "      --bg-color: #3B4455;\n",
              "      --fill-color: #D2E3FC;\n",
              "      --hover-bg-color: #434B5C;\n",
              "      --hover-fill-color: #FFFFFF;\n",
              "      --disabled-bg-color: #3B4455;\n",
              "      --disabled-fill-color: #666;\n",
              "  }\n",
              "\n",
              "  .colab-df-quickchart {\n",
              "    background-color: var(--bg-color);\n",
              "    border: none;\n",
              "    border-radius: 50%;\n",
              "    cursor: pointer;\n",
              "    display: none;\n",
              "    fill: var(--fill-color);\n",
              "    height: 32px;\n",
              "    padding: 0;\n",
              "    width: 32px;\n",
              "  }\n",
              "\n",
              "  .colab-df-quickchart:hover {\n",
              "    background-color: var(--hover-bg-color);\n",
              "    box-shadow: 0 1px 2px rgba(60, 64, 67, 0.3), 0 1px 3px 1px rgba(60, 64, 67, 0.15);\n",
              "    fill: var(--button-hover-fill-color);\n",
              "  }\n",
              "\n",
              "  .colab-df-quickchart-complete:disabled,\n",
              "  .colab-df-quickchart-complete:disabled:hover {\n",
              "    background-color: var(--disabled-bg-color);\n",
              "    fill: var(--disabled-fill-color);\n",
              "    box-shadow: none;\n",
              "  }\n",
              "\n",
              "  .colab-df-spinner {\n",
              "    border: 2px solid var(--fill-color);\n",
              "    border-color: transparent;\n",
              "    border-bottom-color: var(--fill-color);\n",
              "    animation:\n",
              "      spin 1s steps(1) infinite;\n",
              "  }\n",
              "\n",
              "  @keyframes spin {\n",
              "    0% {\n",
              "      border-color: transparent;\n",
              "      border-bottom-color: var(--fill-color);\n",
              "      border-left-color: var(--fill-color);\n",
              "    }\n",
              "    20% {\n",
              "      border-color: transparent;\n",
              "      border-left-color: var(--fill-color);\n",
              "      border-top-color: var(--fill-color);\n",
              "    }\n",
              "    30% {\n",
              "      border-color: transparent;\n",
              "      border-left-color: var(--fill-color);\n",
              "      border-top-color: var(--fill-color);\n",
              "      border-right-color: var(--fill-color);\n",
              "    }\n",
              "    40% {\n",
              "      border-color: transparent;\n",
              "      border-right-color: var(--fill-color);\n",
              "      border-top-color: var(--fill-color);\n",
              "    }\n",
              "    60% {\n",
              "      border-color: transparent;\n",
              "      border-right-color: var(--fill-color);\n",
              "    }\n",
              "    80% {\n",
              "      border-color: transparent;\n",
              "      border-right-color: var(--fill-color);\n",
              "      border-bottom-color: var(--fill-color);\n",
              "    }\n",
              "    90% {\n",
              "      border-color: transparent;\n",
              "      border-bottom-color: var(--fill-color);\n",
              "    }\n",
              "  }\n",
              "</style>\n",
              "\n",
              "      <script>\n",
              "        async function quickchart(key) {\n",
              "          const quickchartButtonEl =\n",
              "            document.querySelector('#' + key + ' button');\n",
              "          quickchartButtonEl.disabled = true;  // To prevent multiple clicks.\n",
              "          quickchartButtonEl.classList.add('colab-df-spinner');\n",
              "          try {\n",
              "            const charts = await google.colab.kernel.invokeFunction(\n",
              "                'suggestCharts', [key], {});\n",
              "          } catch (error) {\n",
              "            console.error('Error during call to suggestCharts:', error);\n",
              "          }\n",
              "          quickchartButtonEl.classList.remove('colab-df-spinner');\n",
              "          quickchartButtonEl.classList.add('colab-df-quickchart-complete');\n",
              "        }\n",
              "        (() => {\n",
              "          let quickchartButtonEl =\n",
              "            document.querySelector('#df-7c40b7d6-1762-4a72-8bf1-a9d629496371 button');\n",
              "          quickchartButtonEl.style.display =\n",
              "            google.colab.kernel.accessAllowed ? 'block' : 'none';\n",
              "        })();\n",
              "      </script>\n",
              "    </div>\n",
              "\n",
              "  <div id=\"id_66ba4854-886b-4ec7-a9aa-ca51edc95edc\">\n",
              "    <style>\n",
              "      .colab-df-generate {\n",
              "        background-color: #E8F0FE;\n",
              "        border: none;\n",
              "        border-radius: 50%;\n",
              "        cursor: pointer;\n",
              "        display: none;\n",
              "        fill: #1967D2;\n",
              "        height: 32px;\n",
              "        padding: 0 0 0 0;\n",
              "        width: 32px;\n",
              "      }\n",
              "\n",
              "      .colab-df-generate:hover {\n",
              "        background-color: #E2EBFA;\n",
              "        box-shadow: 0px 1px 2px rgba(60, 64, 67, 0.3), 0px 1px 3px 1px rgba(60, 64, 67, 0.15);\n",
              "        fill: #174EA6;\n",
              "      }\n",
              "\n",
              "      [theme=dark] .colab-df-generate {\n",
              "        background-color: #3B4455;\n",
              "        fill: #D2E3FC;\n",
              "      }\n",
              "\n",
              "      [theme=dark] .colab-df-generate:hover {\n",
              "        background-color: #434B5C;\n",
              "        box-shadow: 0px 1px 3px 1px rgba(0, 0, 0, 0.15);\n",
              "        filter: drop-shadow(0px 1px 2px rgba(0, 0, 0, 0.3));\n",
              "        fill: #FFFFFF;\n",
              "      }\n",
              "    </style>\n",
              "    <button class=\"colab-df-generate\" onclick=\"generateWithVariable('df_summary')\"\n",
              "            title=\"Generate code using this dataframe.\"\n",
              "            style=\"display:none;\">\n",
              "\n",
              "  <svg xmlns=\"http://www.w3.org/2000/svg\" height=\"24px\"viewBox=\"0 0 24 24\"\n",
              "       width=\"24px\">\n",
              "    <path d=\"M7,19H8.4L18.45,9,17,7.55,7,17.6ZM5,21V16.75L18.45,3.32a2,2,0,0,1,2.83,0l1.4,1.43a1.91,1.91,0,0,1,.58,1.4,1.91,1.91,0,0,1-.58,1.4L9.25,21ZM18.45,9,17,7.55Zm-12,3A5.31,5.31,0,0,0,4.9,8.1,5.31,5.31,0,0,0,1,6.5,5.31,5.31,0,0,0,4.9,4.9,5.31,5.31,0,0,0,6.5,1,5.31,5.31,0,0,0,8.1,4.9,5.31,5.31,0,0,0,12,6.5,5.46,5.46,0,0,0,6.5,12Z\"/>\n",
              "  </svg>\n",
              "    </button>\n",
              "    <script>\n",
              "      (() => {\n",
              "      const buttonEl =\n",
              "        document.querySelector('#id_66ba4854-886b-4ec7-a9aa-ca51edc95edc button.colab-df-generate');\n",
              "      buttonEl.style.display =\n",
              "        google.colab.kernel.accessAllowed ? 'block' : 'none';\n",
              "\n",
              "      buttonEl.onclick = () => {\n",
              "        google.colab.notebook.generateWithVariable('df_summary');\n",
              "      }\n",
              "      })();\n",
              "    </script>\n",
              "  </div>\n",
              "\n",
              "    </div>\n",
              "  </div>\n"
            ],
            "application/vnd.google.colaboratory.intrinsic+json": {
              "type": "dataframe",
              "variable_name": "df_summary",
              "summary": "{\n  \"name\": \"df_summary\",\n  \"rows\": 4,\n  \"fields\": [\n    {\n      \"column\": \"product\",\n      \"properties\": {\n        \"dtype\": \"string\",\n        \"num_unique_values\": 4,\n        \"samples\": [\n          \"Apple\",\n          \"Orange\",\n          \"Grapes\"\n        ],\n        \"semantic_type\": \"\",\n        \"description\": \"\"\n      }\n    },\n    {\n      \"column\": \"total_quantity\",\n      \"properties\": {\n        \"dtype\": \"number\",\n        \"std\": 15,\n        \"min\": 22,\n        \"max\": 55,\n        \"num_unique_values\": 4,\n        \"samples\": [\n          22,\n          25,\n          55\n        ],\n        \"semantic_type\": \"\",\n        \"description\": \"\"\n      }\n    },\n    {\n      \"column\": \"total_revenue\",\n      \"properties\": {\n        \"dtype\": \"number\",\n        \"std\": 43.073580456392676,\n        \"min\": 20.0,\n        \"max\": 110.0,\n        \"num_unique_values\": 4,\n        \"samples\": [\n          33.0,\n          20.0,\n          110.0\n        ],\n        \"semantic_type\": \"\",\n        \"description\": \"\"\n      }\n    }\n  ]\n}"
            }
          },
          "metadata": {}
        }
      ]
    },
    {
      "cell_type": "markdown",
      "source": [
        "**📊 4. Plot Bar Chart of Revenue by Product**"
      ],
      "metadata": {
        "id": "o5fu4BFC1A7h"
      }
    },
    {
      "cell_type": "code",
      "source": [
        "# Plot\n",
        "plt.figure(figsize=(8, 5))\n",
        "plt.bar(df_summary['product'], df_summary['total_revenue'], color='royalblue')\n",
        "plt.title(\"Revenue by Product\")\n",
        "plt.xlabel(\"Product\")\n",
        "plt.ylabel(\"Total Revenue\")\n",
        "plt.grid(axis='y', linestyle='--', alpha=0.7)\n",
        "plt.tight_layout()\n",
        "plt.show()\n"
      ],
      "metadata": {
        "colab": {
          "base_uri": "https://localhost:8080/",
          "height": 507
        },
        "id": "OxfovXBjyyFf",
        "outputId": "9522fb52-1758-42e7-c6cd-beae1d1f25a5"
      },
      "execution_count": 7,
      "outputs": [
        {
          "output_type": "display_data",
          "data": {
            "text/plain": [
              "<Figure size 800x500 with 1 Axes>"
            ],
            "image/png": "[encoded data removed]"
          },
          "metadata": {}
        }
      ]
    },
    {
      "cell_type": "markdown",
      "source": [
        "**Plot Quantity Sold by Product**"
      ],
      "metadata": {
        "id": "qmZ7DohX1HD-"
      }
    },
    {
      "cell_type": "code",
      "source": [
        "# Plot quantity\n",
        "plt.figure(figsize=(8, 5))\n",
        "plt.bar(df_summary['product'], df_summary['total_quantity'], color='orange')\n",
        "plt.title(\"Total Quantity Sold by Product\")\n",
        "plt.xlabel(\"Product\")\n",
        "plt.ylabel(\"Total Quantity\")\n",
        "plt.grid(axis='y', linestyle='--', alpha=0.7)\n",
        "plt.tight_layout()\n",
        "plt.show()\n"
      ],
      "metadata": {
        "colab": {
          "base_uri": "https://localhost:8080/",
          "height": 507
        },
        "id": "QFAuvVFCy0j_",
        "outputId": "b7e48eea-f5b6-4123-f721-b596fe326b70"
      },
      "execution_count": 8,
      "outputs": [
        {
          "output_type": "display_data",
          "data": {
            "text/plain": [
              "<Figure size 800x500 with 1 Axes>"
            ],
            "image/png": "[encoded data removed]"
          },
          "metadata": {}
        }
      ]
    },
    {
      "cell_type": "markdown",
      "source": [
        "**🔍 5. Add Filters by Region or Date**\n",
        "\n",
        "Let’s add region and date columns to our data (if not already added). Then, we can filter based on them.\n",
        "\n",
        "*A. Add region and date to the table*"
      ],
      "metadata": {
        "id": "m_m40IIq1V_4"
      }
    },
    {
      "cell_type": "code",
      "source": [
        "# Recreate database with more detailed data\n",
        "import sqlite3\n",
        "\n",
        "conn = sqlite3.connect(\"sales_data.db\")\n",
        "cursor = conn.cursor()\n",
        "\n",
        "cursor.execute(\"DROP TABLE IF EXISTS sales\")\n",
        "cursor.execute(\"\"\"\n",
        "CREATE TABLE sales (\n",
        "    id INTEGER PRIMARY KEY AUTOINCREMENT,\n",
        "    product TEXT,\n",
        "    quantity INTEGER,\n",
        "    price REAL,\n",
        "    date TEXT,\n",
        "    region TEXT\n",
        ")\n",
        "\"\"\")\n",
        "\n",
        "# Insert richer data\n",
        "sales_data = [\n",
        "    (\"Apple\", 10, 1.5, \"2025-06-01\", \"North\"),\n",
        "    (\"Banana\", 20, 0.5, \"2025-06-01\", \"North\"),\n",
        "    (\"Orange\", 15, 0.8, \"2025-06-02\", \"South\"),\n",
        "    (\"Apple\", 5, 1.5, \"2025-06-02\", \"South\"),\n",
        "    (\"Banana\", 10, 0.5, \"2025-06-03\", \"East\"),\n",
        "    (\"Grapes\", 25, 2.0, \"2025-06-03\", \"East\"),\n",
        "    (\"Apple\", 7, 1.5, \"2025-06-04\", \"West\"),\n",
        "    (\"Orange\", 10, 0.8, \"2025-06-05\", \"North\"),\n",
        "    (\"Banana\", 12, 0.5, \"2025-06-06\", \"South\"),\n",
        "    (\"Grapes\", 30, 2.0, \"2025-06-06\", \"West\")\n",
        "]\n",
        "\n",
        "cursor.executemany(\"INSERT INTO sales (product, quantity, price, date, region) VALUES (?, ?, ?, ?, ?)\", sales_data)\n",
        "conn.commit()\n",
        "conn.close()\n"
      ],
      "metadata": {
        "id": "RipPiQAxy3wT"
      },
      "execution_count": 9,
      "outputs": []
    },
    {
      "cell_type": "markdown",
      "source": [
        "*B. Query with a region filter*"
      ],
      "metadata": {
        "id": "V6H8y_tY1olj"
      }
    },
    {
      "cell_type": "code",
      "source": [
        "import pandas as pd\n",
        "\n",
        "conn = sqlite3.connect(\"sales_data.db\")\n",
        "\n",
        "region = \"North\"  # You can change to \"South\", \"East\", or \"West\"\n",
        "query_region = f\"\"\"\n",
        "SELECT product,\n",
        "       SUM(quantity) AS total_qty,\n",
        "       ROUND(SUM(quantity * price), 2) AS revenue\n",
        "FROM sales\n",
        "WHERE region = '{region}'\n",
        "GROUP BY product\n",
        "\"\"\"\n",
        "\n",
        "df_region = pd.read_sql_query(query_region, conn)\n",
        "conn.close()\n",
        "\n",
        "print(f\"🧾 Sales Summary for Region: {region}\")\n",
        "print(df_region)\n"
      ],
      "metadata": {
        "colab": {
          "base_uri": "https://localhost:8080/"
        },
        "id": "e-fEXOF_1kjP",
        "outputId": "4641c9a7-cf05-43d4-c1d4-8bbe3d13c5fa"
      },
      "execution_count": 10,
      "outputs": [
        {
          "output_type": "stream",
          "name": "stdout",
          "text": [
            "🧾 Sales Summary for Region: North\n",
            "  product  total_qty  revenue\n",
            "0   Apple         10     15.0\n",
            "1  Banana         20     10.0\n",
            "2  Orange         10      8.0\n"
          ]
        }
      ]
    },
    {
      "cell_type": "markdown",
      "source": [
        "**📅 2. Create Monthly Trends**\n",
        "\n",
        "  Group by month using the strftime function in SQLite."
      ],
      "metadata": {
        "id": "z08IJbKs1tuI"
      }
    },
    {
      "cell_type": "code",
      "source": [
        "conn = sqlite3.connect(\"sales_data.db\")\n",
        "\n",
        "query_monthly = \"\"\"\n",
        "SELECT strftime('%Y-%m', date) AS month,\n",
        "       SUM(quantity * price) AS total_revenue\n",
        "FROM sales\n",
        "GROUP BY month\n",
        "ORDER BY month\n",
        "\"\"\"\n",
        "\n",
        "df_monthly = pd.read_sql_query(query_monthly, conn)\n",
        "conn.close()\n",
        "\n",
        "print(\"📅 Monthly Revenue Trends:\")\n",
        "print(df_monthly)\n",
        "\n",
        "# Plot monthly revenue trend\n",
        "import matplotlib.pyplot as plt\n",
        "\n",
        "plt.plot(df_monthly['month'], df_monthly['total_revenue'], marker='o', color='teal')\n",
        "plt.title(\"Monthly Revenue Trend\")\n",
        "plt.xlabel(\"Month\")\n",
        "plt.ylabel(\"Total Revenue\")\n",
        "plt.grid(True)\n",
        "plt.tight_layout()\n",
        "plt.show()\n"
      ],
      "metadata": {
        "colab": {
          "base_uri": "https://localhost:8080/",
          "height": 539
        },
        "id": "4whBnxjF1rxd",
        "outputId": "8586adbe-e6d3-4940-bf41-ea185baa83ab"
      },
      "execution_count": 11,
      "outputs": [
        {
          "output_type": "stream",
          "name": "stdout",
          "text": [
            "📅 Monthly Revenue Trends:\n",
            "     month  total_revenue\n",
            "0  2025-06          184.0\n"
          ]
        },
        {
          "output_type": "display_data",
          "data": {
            "text/plain": [
              "<Figure size 640x480 with 1 Axes>"
            ],
            "image/png": "[encoded data removed]"
          },
          "metadata": {}
        }
      ]
    },
    {
      "cell_type": "markdown",
      "source": [
        "**💾 3. Export Summary to CSV**\n",
        "\n",
        "Export any DataFrame like this:"
      ],
      "metadata": {
        "id": "mHrfQKsD16oI"
      }
    },
    {
      "cell_type": "code",
      "source": [
        "# Save region summary to CSV\n",
        "df_region.to_csv(\"region_sales_summary.csv\", index=False)\n",
        "\n",
        "# Save monthly trend to CSV\n",
        "df_monthly.to_csv(\"monthly_revenue_trend.csv\", index=False)\n",
        "\n",
        "print(\"✅ CSV files exported successfully.\")\n"
      ],
      "metadata": {
        "colab": {
          "base_uri": "https://localhost:8080/"
        },
        "id": "OlyXsArj13fz",
        "outputId": "7d8e3081-04ae-4501-df03-b7aa5c226654"
      },
      "execution_count": 12,
      "outputs": [
        {
          "output_type": "stream",
          "name": "stdout",
          "text": [
            "✅ CSV files exported successfully.\n"
          ]
        }
      ]
    },
    {
      "cell_type": "markdown",
      "source": [
        "**✅ Final Sales Analysis Script**"
      ],
      "metadata": {
        "id": "LU4tTst12Sgz"
      }
    },
    {
      "cell_type": "code",
      "source": [
        "# Step 1: Imports\n",
        "import sqlite3\n",
        "import pandas as pd\n",
        "import matplotlib.pyplot as plt\n",
        "\n",
        "# Step 2: Create database and insert detailed sales data\n",
        "conn = sqlite3.connect(\"sales_data.db\")\n",
        "cursor = conn.cursor()\n",
        "\n",
        "cursor.execute(\"DROP TABLE IF EXISTS sales\")\n",
        "cursor.execute(\"\"\"\n",
        "CREATE TABLE sales (\n",
        "    id INTEGER PRIMARY KEY AUTOINCREMENT,\n",
        "    product TEXT,\n",
        "    quantity INTEGER,\n",
        "    price REAL,\n",
        "    date TEXT,\n",
        "    region TEXT\n",
        ")\n",
        "\"\"\")\n",
        "\n",
        "sales_data = [\n",
        "    (\"Apple\", 10, 1.5, \"2025-06-01\", \"North\"),\n",
        "    (\"Banana\", 20, 0.5, \"2025-06-01\", \"North\"),\n",
        "    (\"Orange\", 15, 0.8, \"2025-06-02\", \"South\"),\n",
        "    (\"Apple\", 5, 1.5, \"2025-06-02\", \"South\"),\n",
        "    (\"Banana\", 10, 0.5, \"2025-06-03\", \"East\"),\n",
        "    (\"Grapes\", 25, 2.0, \"2025-06-03\", \"East\"),\n",
        "    (\"Apple\", 7, 1.5, \"2025-06-04\", \"West\"),\n",
        "    (\"Orange\", 10, 0.8, \"2025-06-05\", \"North\"),\n",
        "    (\"Banana\", 12, 0.5, \"2025-06-06\", \"South\"),\n",
        "    (\"Grapes\", 30, 2.0, \"2025-06-06\", \"West\")\n",
        "]\n",
        "\n",
        "cursor.executemany(\"INSERT INTO sales (product, quantity, price, date, region) VALUES (?, ?, ?, ?, ?)\", sales_data)\n",
        "conn.commit()\n",
        "conn.close()\n"
      ],
      "metadata": {
        "id": "oJZqdBIT2G0e"
      },
      "execution_count": 13,
      "outputs": []
    },
    {
      "cell_type": "markdown",
      "source": [
        "**🔍 Filter Sales by Region**"
      ],
      "metadata": {
        "id": "8zkycXy02p9z"
      }
    },
    {
      "cell_type": "code",
      "source": [
        "region = \"North\"  # Change to \"South\", \"East\", or \"West\"\n",
        "conn = sqlite3.connect(\"sales_data.db\")\n",
        "\n",
        "query_region = f\"\"\"\n",
        "SELECT product,\n",
        "       SUM(quantity) AS total_qty,\n",
        "       ROUND(SUM(quantity * price), 2) AS revenue\n",
        "FROM sales\n",
        "WHERE region = '{region}'\n",
        "GROUP BY product\n",
        "\"\"\"\n",
        "\n",
        "df_region = pd.read_sql_query(query_region, conn)\n",
        "print(f\"🧾 Sales Summary for Region: {region}\")\n",
        "print(df_region)\n",
        "\n",
        "# Plot\n",
        "df_region.plot(kind='bar', x='product', y='revenue', color='skyblue', legend=False)\n",
        "plt.title(f\"Revenue by Product in {region} Region\")\n",
        "plt.ylabel(\"Revenue\")\n",
        "plt.xlabel(\"Product\")\n",
        "plt.tight_layout()\n",
        "plt.grid(axis='y')\n",
        "plt.show()\n"
      ],
      "metadata": {
        "colab": {
          "base_uri": "https://localhost:8080/",
          "height": 574
        },
        "id": "duIgIFSP2Vcd",
        "outputId": "e349fffe-a881-4252-8f9a-69a5fe459f17"
      },
      "execution_count": 14,
      "outputs": [
        {
          "output_type": "stream",
          "name": "stdout",
          "text": [
            "🧾 Sales Summary for Region: North\n",
            "  product  total_qty  revenue\n",
            "0   Apple         10     15.0\n",
            "1  Banana         20     10.0\n",
            "2  Orange         10      8.0\n"
          ]
        },
        {
          "output_type": "display_data",
          "data": {
            "text/plain": [
              "<Figure size 640x480 with 1 Axes>"
            ],
            "image/png": "[encoded data removed]"
          },
          "metadata": {}
        }
      ]
    },
    {
      "cell_type": "markdown",
      "source": [
        "**📅 Monthly Revenue Trend**"
      ],
      "metadata": {
        "id": "dEHBjV3R2ZKT"
      }
    },
    {
      "cell_type": "code",
      "source": [
        "query_monthly = \"\"\"\n",
        "SELECT strftime('%Y-%m', date) AS month,\n",
        "       SUM(quantity * price) AS total_revenue\n",
        "FROM sales\n",
        "GROUP BY month\n",
        "ORDER BY month\n",
        "\"\"\"\n",
        "\n",
        "df_monthly = pd.read_sql_query(query_monthly, conn)\n",
        "conn.close()\n",
        "\n",
        "print(\"📅 Monthly Revenue Trends\")\n",
        "print(df_monthly)\n",
        "\n",
        "plt.plot(df_monthly['month'], df_monthly['total_revenue'], marker='o', color='teal')\n",
        "plt.title(\"Monthly Revenue Trend\")\n",
        "plt.xlabel(\"Month\")\n",
        "plt.ylabel(\"Total Revenue\")\n",
        "plt.grid(True)\n",
        "plt.tight_layout()\n",
        "plt.show()\n"
      ],
      "metadata": {
        "colab": {
          "base_uri": "https://localhost:8080/",
          "height": 539
        },
        "id": "c3H9MOzu2XXd",
        "outputId": "3df0fd35-ad47-436c-8461-6f2ff8754988"
      },
      "execution_count": 15,
      "outputs": [
        {
          "output_type": "stream",
          "name": "stdout",
          "text": [
            "📅 Monthly Revenue Trends\n",
            "     month  total_revenue\n",
            "0  2025-06          184.0\n"
          ]
        },
        {
          "output_type": "display_data",
          "data": {
            "text/plain": [
              "<Figure size 640x480 with 1 Axes>"
            ],
            "image/png": "[encoded data removed]"
          },
          "metadata": {}
        }
      ]
    },
    {
      "cell_type": "code",
      "source": [
        "df_region.to_csv(\"region_sales_summary.csv\", index=False)\n",
        "df_monthly.to_csv(\"monthly_revenue_trend.csv\", index=False)\n",
        "print(\"✅ CSV files exported successfully!\")\n"
      ],
      "metadata": {
        "colab": {
          "base_uri": "https://localhost:8080/"
        },
        "id": "cSx3ZeZn2vG0",
        "outputId": "1523c253-e874-45cd-986d-b0913cd9a196"
      },
      "execution_count": 16,
      "outputs": [
        {
          "output_type": "stream",
          "name": "stdout",
          "text": [
            "✅ CSV files exported successfully!\n"
          ]
        }
      ]
    },
    {
      "cell_type": "code",
      "source": [],
      "metadata": {
        "id": "otz8wmyw20Z6"
      },
      "execution_count": null,
      "outputs": []
    }
  ]
}